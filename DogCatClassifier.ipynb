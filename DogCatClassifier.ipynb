{
  "nbformat": 4,
  "nbformat_minor": 0,
  "metadata": {
    "colab": {
      "name": "DogCatClassifier.ipynb",
      "provenance": [],
      "collapsed_sections": []
    },
    "kernelspec": {
      "name": "python3",
      "display_name": "Python 3"
    },
    "accelerator": "GPU"
  },
  "cells": [
    {
      "cell_type": "code",
      "metadata": {
        "id": "q8UrvlqWAay7",
        "colab_type": "code",
        "outputId": "35ca9376-05cb-478f-f9a7-ee9b454b6ae5",
        "colab": {
          "base_uri": "https://localhost:8080/",
          "height": 121
        }
      },
      "source": [
        "from google.colab import drive\n",
        "drive.mount('/content/gdrive')"
      ],
      "execution_count": 1,
      "outputs": [
        {
          "output_type": "stream",
          "text": [
            "Go to this URL in a browser: https://accounts.google.com/o/oauth2/auth?client_id=947318989803-6bn6qk8qdgf4n4g3pfee6491hc0brc4i.apps.googleusercontent.com&redirect_uri=urn%3Aietf%3Awg%3Aoauth%3A2.0%3Aoob&scope=email%20https%3A%2F%2Fwww.googleapis.com%2Fauth%2Fdocs.test%20https%3A%2F%2Fwww.googleapis.com%2Fauth%2Fdrive%20https%3A%2F%2Fwww.googleapis.com%2Fauth%2Fdrive.photos.readonly%20https%3A%2F%2Fwww.googleapis.com%2Fauth%2Fpeopleapi.readonly&response_type=code\n",
            "\n",
            "Enter your authorization code:\n",
            "··········\n",
            "Mounted at /content/gdrive\n"
          ],
          "name": "stdout"
        }
      ]
    },
    {
      "cell_type": "markdown",
      "metadata": {
        "id": "4pNuEoJWBEtm",
        "colab_type": "text"
      },
      "source": [
        "#Data Import"
      ]
    },
    {
      "cell_type": "code",
      "metadata": {
        "id": "0ggClN14BV7W",
        "colab_type": "code",
        "colab": {}
      },
      "source": [
        "import torch\n",
        "import torch.nn as nn\n",
        "import torch.nn.functional as F\n",
        "import torch.optim as optim\n",
        "import numpy as np\n",
        "from tqdm import tqdm\n",
        "import matplotlib.pyplot as plt"
      ],
      "execution_count": 0,
      "outputs": []
    },
    {
      "cell_type": "code",
      "metadata": {
        "id": "YbC3g_73AxGq",
        "colab_type": "code",
        "colab": {}
      },
      "source": [
        "datapath = '/content/gdrive/My Drive/Datasets/DogCat/training_data.npy'\n",
        "training_data = np.load(datapath, allow_pickle=True)"
      ],
      "execution_count": 0,
      "outputs": []
    },
    {
      "cell_type": "markdown",
      "metadata": {
        "id": "ISiKtCZyCwO3",
        "colab_type": "text"
      },
      "source": [
        "# Model Building"
      ]
    },
    {
      "cell_type": "code",
      "metadata": {
        "id": "e9vvpUoZBtcy",
        "colab_type": "code",
        "colab": {}
      },
      "source": [
        "class Net(nn.Module):\n",
        "  def __init__(self):\n",
        "    super().__init__()\n",
        "    self.conv1 = nn.Conv2d(1, 32, 5)\n",
        "    self.conv2 = nn.Conv2d(32, 64, 5)\n",
        "    self.conv3 = nn.Conv2d(64, 128, 5)\n",
        "    \n",
        "\n",
        "    x = torch.randn(50,50).view(-1,1,50,50)\n",
        "    self.to_linear = None\n",
        "    self.convs(x)\n",
        "\n",
        "    self.fc1 = nn.Linear(self.to_linear, 512)\n",
        "    self.fc2 = nn.Linear(512, 1024)\n",
        "    self.fc3 = nn.Linear(1024, 2)\n",
        "\n",
        "  def convs(self, x):\n",
        "    x = F.max_pool2d(F.relu(self.conv1(x)), (2,2))\n",
        "    x = F.max_pool2d(F.relu(self.conv2(x)), (2,2))\n",
        "    x = F.max_pool2d(F.relu(self.conv3(x)), (2,2))\n",
        "    \n",
        "\n",
        "    #print(x[0].shape)\n",
        "    if self.to_linear == None:\n",
        "      self.to_linear = x[0].shape[0]*x[0].shape[1]*x[0].shape[2]\n",
        "    return x\n",
        "\n",
        "  def forward(self, x):\n",
        "    x = self.convs(x)\n",
        "    x = x.view(-1, self.to_linear)\n",
        "    x = F.relu(self.fc1(x))\n",
        "    x = F.relu(self.fc2(x))\n",
        "    x = F.softmax(self.fc3(x), dim=1)\n",
        "    return x\n",
        "\n"
      ],
      "execution_count": 0,
      "outputs": []
    },
    {
      "cell_type": "code",
      "metadata": {
        "id": "9JjG5HYHNKk4",
        "colab_type": "code",
        "outputId": "4d4cb24c-8aca-4334-ebf4-e759d662366d",
        "colab": {
          "base_uri": "https://localhost:8080/",
          "height": 34
        }
      },
      "source": [
        "VAL_PCT = 0.07\n",
        "test_len = int(len(training_data)*VAL_PCT)\n",
        "\n",
        "X = torch.Tensor([i[0] for i in training_data]).view(-1,50,50)\n",
        "X = X/255.0\n",
        "y = torch.Tensor([i[1] for i in training_data])\n",
        "\n",
        "train_X = X[:-test_len]\n",
        "train_y = y[:-test_len]\n",
        "\n",
        "test_X = X[-test_len:]\n",
        "test_y = y[-test_len:]\n",
        "\n",
        "print(len(train_X), len(test_X))"
      ],
      "execution_count": 16,
      "outputs": [
        {
          "output_type": "stream",
          "text": [
            "23200 1746\n"
          ],
          "name": "stdout"
        }
      ]
    },
    {
      "cell_type": "markdown",
      "metadata": {
        "id": "TwXPJY_nN0Xy",
        "colab_type": "text"
      },
      "source": [
        "#Training"
      ]
    },
    {
      "cell_type": "code",
      "metadata": {
        "id": "x7rTgq_JNw4y",
        "colab_type": "code",
        "colab": {}
      },
      "source": [
        "def train(net, EPOCHS=10):\n",
        "  loss_function = nn.MSELoss()\n",
        "  optimizer = optim.Adam(net.parameters(), lr=0.001)\n",
        "  batch = 100\n",
        "\n",
        "  for epoch in range(EPOCHS):\n",
        "    for i in tqdm(range(0, len(train_X), batch)):\n",
        "      batch_X = train_X[i:i+batch].view(-1,1,50,50)\n",
        "      batch_y = train_y[i:i+batch]\n",
        "\n",
        "      net.zero_grad()\n",
        "      outputs = net(batch_X)\n",
        "      loss = loss_function(outputs, batch_y)\n",
        "      loss.backward()\n",
        "      optimizer.step()\n",
        "\n",
        "  print(loss)"
      ],
      "execution_count": 0,
      "outputs": []
    },
    {
      "cell_type": "markdown",
      "metadata": {
        "id": "EmZVKJOKUk25",
        "colab_type": "text"
      },
      "source": [
        "#Testing"
      ]
    },
    {
      "cell_type": "code",
      "metadata": {
        "id": "cbLkcid2O9ny",
        "colab_type": "code",
        "colab": {}
      },
      "source": [
        "def test(net):\n",
        "  correct = 0\n",
        "  total = 0\n",
        "\n",
        "  with torch.no_grad():\n",
        "    for i in range(len(test_X)):\n",
        "      realclass = torch.argmax(test_y[i])\n",
        "      output = net(test_X[i].view(-1,1,50,50))[0]\n",
        "      predicted = torch.argmax(output)\n",
        "      if predicted == realclass:\n",
        "        correct += 1\n",
        "      total += 1\n",
        "\n",
        "  print(\"Accuracy\", round(correct/total,4))"
      ],
      "execution_count": 0,
      "outputs": []
    },
    {
      "cell_type": "code",
      "metadata": {
        "id": "v5sht5eOGK0Z",
        "colab_type": "code",
        "colab": {}
      },
      "source": [
        "net = Net()"
      ],
      "execution_count": 0,
      "outputs": []
    },
    {
      "cell_type": "code",
      "metadata": {
        "id": "zhvRedOIU8_c",
        "colab_type": "code",
        "colab": {
          "base_uri": "https://localhost:8080/",
          "height": 202
        },
        "outputId": "3eac74ce-8ab9-4fde-82c7-ca2b8e5350ca"
      },
      "source": [
        "train(net, EPOCHS=10)"
      ],
      "execution_count": 29,
      "outputs": [
        {
          "output_type": "stream",
          "text": [
            "100%|██████████| 232/232 [01:04<00:00,  3.68it/s]\n",
            "100%|██████████| 232/232 [01:02<00:00,  3.73it/s]\n",
            "100%|██████████| 232/232 [01:01<00:00,  3.70it/s]\n",
            "100%|██████████| 232/232 [01:02<00:00,  3.76it/s]\n",
            "100%|██████████| 232/232 [01:01<00:00,  3.76it/s]\n",
            "100%|██████████| 232/232 [01:01<00:00,  3.69it/s]\n",
            "100%|██████████| 232/232 [01:01<00:00,  3.79it/s]\n",
            "100%|██████████| 232/232 [01:00<00:00,  3.79it/s]\n",
            "100%|██████████| 232/232 [01:00<00:00,  3.76it/s]\n",
            "100%|██████████| 232/232 [01:00<00:00,  3.82it/s]"
          ],
          "name": "stderr"
        },
        {
          "output_type": "stream",
          "text": [
            "tensor(0.0699, grad_fn=<MseLossBackward>)\n"
          ],
          "name": "stdout"
        },
        {
          "output_type": "stream",
          "text": [
            "\n"
          ],
          "name": "stderr"
        }
      ]
    },
    {
      "cell_type": "code",
      "metadata": {
        "id": "20AM6gKtU_bk",
        "colab_type": "code",
        "colab": {
          "base_uri": "https://localhost:8080/",
          "height": 34
        },
        "outputId": "9f0c52bc-4166-44cb-bb3d-71f6c111b7c3"
      },
      "source": [
        "test(net)"
      ],
      "execution_count": 30,
      "outputs": [
        {
          "output_type": "stream",
          "text": [
            "Accuracy 0.7692\n"
          ],
          "name": "stdout"
        }
      ]
    },
    {
      "cell_type": "code",
      "metadata": {
        "id": "MVvgJKrJXgXb",
        "colab_type": "code",
        "colab": {}
      },
      "source": [
        ""
      ],
      "execution_count": 0,
      "outputs": []
    }
  ]
}